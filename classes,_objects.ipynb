{
  "nbformat": 4,
  "nbformat_minor": 0,
  "metadata": {
    "colab": {
      "provenance": [],
      "collapsed_sections": []
    },
    "kernelspec": {
      "name": "python3",
      "display_name": "Python 3"
    },
    "language_info": {
      "name": "python"
    }
  },
  "cells": [
    {
      "cell_type": "code",
      "execution_count": null,
      "metadata": {
        "id": "WqWN7vMKJ8jn"
      },
      "outputs": [],
      "source": [
        "#question1\n",
        "class Point3D :\n",
        "  def __init__(self,x,y,z):\n",
        "    self.x=x\n",
        "    self.y=y\n",
        "    self.z=z\n",
        "  def afficher(self):\n",
        "   print(self.x, self.y, self.z)\n"
      ]
    },
    {
      "cell_type": "code",
      "source": [
        "var= Point3D(1,2,3)\n",
        "var.afficher()\n"
      ],
      "metadata": {
        "colab": {
          "base_uri": "https://localhost:8080/"
        },
        "id": "gxO9b0GwNmc6",
        "outputId": "2288d308-8af5-4cec-fc28-ece617360c23"
      },
      "execution_count": null,
      "outputs": [
        {
          "output_type": "stream",
          "name": "stdout",
          "text": [
            "1 2 3\n"
          ]
        }
      ]
    },
    {
      "cell_type": "code",
      "source": [
        "#question2\n",
        "class Rectangle :\n",
        "  def __init__(self,W,L):\n",
        "    self.W=W\n",
        "    self.L=L\n",
        "  def perim(self):\n",
        "    p=(self.W+self.L)*2\n",
        "    print(p)\n",
        "  def surf(self):\n",
        "    a=self.W*self.L\n",
        "    print(a)\n",
        "my_rectangle=Rectangle(3,4)\n",
        "my_rectangle.perim()\n",
        "my_rectangle.surf()\n",
        "  \n"
      ],
      "metadata": {
        "colab": {
          "base_uri": "https://localhost:8080/"
        },
        "id": "hXBEAb3ZOIje",
        "outputId": "b589874d-10a9-4b70-ac66-23723fc94b23"
      },
      "execution_count": null,
      "outputs": [
        {
          "output_type": "stream",
          "name": "stdout",
          "text": [
            "14\n",
            "12\n"
          ]
        }
      ]
    },
    {
      "cell_type": "code",
      "source": [
        "#question3\n",
        "class Circle :\n",
        "  def __init__(self,O,r):\n",
        "    self.r=r\n",
        "    self.O=O\n",
        "  def surface(self):\n",
        "    S=3.14*self.r**2\n",
        "    print(S)\n",
        "  def perimetre(self):\n",
        "    P=2*3.14*self.r\n",
        "    print(P)\n",
        "my_circle=Circle(0,4)\n",
        "my_circle.perimetre()\n",
        "my_circle.surface()\n",
        "  "
      ],
      "metadata": {
        "id": "a-V5DkvHXJI2",
        "colab": {
          "base_uri": "https://localhost:8080/"
        },
        "outputId": "204d6e1c-f490-46d2-d736-19ee0079b217"
      },
      "execution_count": null,
      "outputs": [
        {
          "output_type": "stream",
          "name": "stdout",
          "text": [
            "25.12\n",
            "50.24\n"
          ]
        }
      ]
    },
    {
      "cell_type": "code",
      "source": [
        "#Question4\n",
        "class Bank :\n",
        "  # creation du compte bancaire\n",
        "  def __init__(self,num_cl,nom,prenom,adr,ccp):\n",
        "    self.num_cl = num_cl \n",
        "    self.nom = nom\n",
        "    self.prenom = prenom\n",
        "    self.adr = adr\n",
        "    self.ccp = ccp\n",
        "client1 = Bank(1,\"Ouali\",\"Lyna\",\"Kouba\",\"0265892305\")\n",
        "print(\"client number{}\\n nom : {}\\n prénom : {}\\n Adresse : {}\\n Numéro ccp : {}\".format(client1.num_cl, client1.nom, client1.prenom, client1.adr, client1.ccp))\n",
        "def depot(solde,d):\n",
        "  solde = solde+d\n",
        "  print(\"Vous avez versé:\",d,\"Da\")\n",
        "  print(\"Votre compte contient:\",solde,\"Da\")\n",
        "depot(2000,500) # comment faire pour que le montant soit enregistré automatiquement ?\n",
        "def retrait(solde,r):\n",
        "  solde=solde-r\n",
        "  print(\"Vous avez retiré:\",r,\"Da\")\n",
        "  print(\"Votre compte contient:\",solde,\"Da\")\n",
        "retrait(2500,1000)\n",
        "\n"
      ],
      "metadata": {
        "id": "8OryTvMfd_FS",
        "colab": {
          "base_uri": "https://localhost:8080/"
        },
        "outputId": "7b58e868-c2c2-4aac-cc39-e53cedf6d73f"
      },
      "execution_count": 62,
      "outputs": [
        {
          "output_type": "stream",
          "name": "stdout",
          "text": [
            "client number1\n",
            " nom : Ouali\n",
            " prénom : Lyna\n",
            " Adresse : Kouba\n",
            " Numéro ccp : 0265892305\n",
            "Vous avez versé: 500 Da\n",
            "Votre compte contient: 2500 Da\n",
            "Vous avez retiré: 1000 Da\n",
            "Votre compte contient: 1500 Da\n"
          ]
        }
      ]
    }
  ]
}